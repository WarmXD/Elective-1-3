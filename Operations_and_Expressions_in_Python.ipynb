{
  "nbformat": 4,
  "nbformat_minor": 0,
  "metadata": {
    "colab": {
      "name": "Operations and Expressions in Python.ipynb",
      "provenance": [],
      "authorship_tag": "ABX9TyPqiMygtU58fuIXwBJVgeQa",
      "include_colab_link": true
    },
    "kernelspec": {
      "name": "python3",
      "display_name": "Python 3"
    },
    "language_info": {
      "name": "python"
    }
  },
  "cells": [
    {
      "cell_type": "markdown",
      "metadata": {
        "id": "view-in-github",
        "colab_type": "text"
      },
      "source": [
        "<a href=\"https://colab.research.google.com/github/WarmXD/Elective-1-3/blob/main/Operations_and_Expressions_in_Python.ipynb\" target=\"_parent\"><img src=\"https://colab.research.google.com/assets/colab-badge.svg\" alt=\"Open In Colab\"/></a>"
      ]
    },
    {
      "cell_type": "code",
      "execution_count": 7,
      "metadata": {
        "colab": {
          "base_uri": "https://localhost:8080/"
        },
        "id": "24BR8e3I0M09",
        "outputId": "6dae33b2-0618-4efd-b6a8-6c1e21894bbc"
      },
      "outputs": [
        {
          "output_type": "stream",
          "name": "stdout",
          "text": [
            "True\n",
            "False\n",
            "True\n"
          ]
        }
      ],
      "source": [
        "x=10\n",
        "y=9\n",
        "\n",
        "print(x>y)\n",
        "print(9==10)\n",
        "print(10==10)"
      ]
    },
    {
      "cell_type": "markdown",
      "source": [
        ""
      ],
      "metadata": {
        "id": "cXykF-QK2U_i"
      }
    },
    {
      "cell_type": "code",
      "source": [
        "print(bool(\"Wayne\"))\n",
        "print(bool(18))\n",
        "print(bool(None))\n",
        "print(bool(1))"
      ],
      "metadata": {
        "colab": {
          "base_uri": "https://localhost:8080/"
        },
        "id": "7vuC6o441T9h",
        "outputId": "92a4c82c-5561-4acd-89fa-094b4b73c90d"
      },
      "execution_count": 30,
      "outputs": [
        {
          "output_type": "stream",
          "name": "stdout",
          "text": [
            "True\n",
            "True\n",
            "False\n",
            "True\n"
          ]
        }
      ]
    },
    {
      "cell_type": "markdown",
      "source": [
        "## Defining Function\n"
      ],
      "metadata": {
        "id": "2Ii2rSKc2XFW"
      }
    },
    {
      "cell_type": "code",
      "source": [
        "def Pogi():\n",
        "  return False\n",
        "\n",
        "print(Pogi())\n"
      ],
      "metadata": {
        "colab": {
          "base_uri": "https://localhost:8080/"
        },
        "id": "ambIQ8a-2BBp",
        "outputId": "7f2642fb-e24c-4bb4-e5c0-49dcd2f017e0"
      },
      "execution_count": 57,
      "outputs": [
        {
          "output_type": "stream",
          "name": "stdout",
          "text": [
            "False\n"
          ]
        }
      ]
    },
    {
      "cell_type": "code",
      "source": [
        "def myFunction():\n",
        "  return True\n",
        "\n",
        "if myFunction():\n",
        "   print(\"Yes\")\n",
        "else:\n",
        "   print(\"No\")\n",
        "            "
      ],
      "metadata": {
        "colab": {
          "base_uri": "https://localhost:8080/"
        },
        "id": "IdekGFg02_El",
        "outputId": "8ae33286-3974-4b8c-baa3-733e679ec290"
      },
      "execution_count": 55,
      "outputs": [
        {
          "output_type": "stream",
          "name": "stdout",
          "text": [
            "Yes\n"
          ]
        }
      ]
    },
    {
      "cell_type": "markdown",
      "source": [
        "##Application 1\n"
      ],
      "metadata": {
        "id": "_ewSb1hL3geB"
      }
    },
    {
      "cell_type": "code",
      "source": [
        "print (10>9)\n",
        "\n",
        "a=6\n",
        "b=7\n",
        "print(a==b)\n",
        "print(a!=b)"
      ],
      "metadata": {
        "colab": {
          "base_uri": "https://localhost:8080/"
        },
        "id": "AtLwmMbJ3jQ1",
        "outputId": "9385914d-bffa-4d41-8d18-53c9cfb8ef1a"
      },
      "execution_count": 58,
      "outputs": [
        {
          "output_type": "stream",
          "name": "stdout",
          "text": [
            "True\n",
            "False\n",
            "True\n"
          ]
        }
      ]
    },
    {
      "cell_type": "markdown",
      "source": [
        "##Arithmetic Operations"
      ],
      "metadata": {
        "id": "c3CKQfr54yDR"
      }
    },
    {
      "cell_type": "code",
      "source": [
        "print(a+b)\n",
        "print(a-b)\n",
        "print(a*b)\n",
        "print(a**b)"
      ],
      "metadata": {
        "colab": {
          "base_uri": "https://localhost:8080/"
        },
        "id": "KKhHDk7U402I",
        "outputId": "dba1d33f-b375-46e0-85a5-2be362812eb6"
      },
      "execution_count": 60,
      "outputs": [
        {
          "output_type": "stream",
          "name": "stdout",
          "text": [
            "13\n",
            "-1\n",
            "42\n",
            "279936\n"
          ]
        }
      ]
    },
    {
      "cell_type": "markdown",
      "source": [
        "##Bitwise Operators"
      ],
      "metadata": {
        "id": "m6_eKs2S5kaw"
      }
    },
    {
      "cell_type": "code",
      "source": [
        "c = 60\n",
        "d = 13\n",
        "\n",
        "print(c&d)\n",
        "print(c|d)\n",
        "print(c<<1)\n",
        "print(c<<2)"
      ],
      "metadata": {
        "colab": {
          "base_uri": "https://localhost:8080/"
        },
        "id": "h80cchHw5m81",
        "outputId": "3beb07ac-80fa-4c99-c136-9893beada89f"
      },
      "execution_count": 67,
      "outputs": [
        {
          "output_type": "stream",
          "name": "stdout",
          "text": [
            "12\n",
            "61\n",
            "120\n",
            "240\n"
          ]
        }
      ]
    },
    {
      "cell_type": "markdown",
      "source": [
        "#Assignment Operators"
      ],
      "metadata": {
        "id": "aihmYqts77kj"
      }
    },
    {
      "cell_type": "code",
      "source": [
        "c=60\n",
        "d=13\n",
        "c+=3\n",
        "c%=3\n",
        "print(c)\n",
        "print(c)"
      ],
      "metadata": {
        "colab": {
          "base_uri": "https://localhost:8080/"
        },
        "id": "-8_iFiN27-ea",
        "outputId": "23b9dafe-ed93-4d3e-8cfd-a4afa759761d"
      },
      "execution_count": 80,
      "outputs": [
        {
          "output_type": "stream",
          "name": "stdout",
          "text": [
            "0\n",
            "0\n"
          ]
        }
      ]
    },
    {
      "cell_type": "markdown",
      "source": [
        "##Logical Operators"
      ],
      "metadata": {
        "id": "S4TkuE7s80E_"
      }
    },
    {
      "cell_type": "code",
      "source": [
        "c = True\n",
        "d = False\n",
        "\n",
        "not(c and d)"
      ],
      "metadata": {
        "colab": {
          "base_uri": "https://localhost:8080/"
        },
        "id": "WvG0pfPr81-e",
        "outputId": "3760db1a-954d-445b-f290-7328c5e2f273"
      },
      "execution_count": 83,
      "outputs": [
        {
          "output_type": "execute_result",
          "data": {
            "text/plain": [
              "True"
            ]
          },
          "metadata": {},
          "execution_count": 83
        }
      ]
    },
    {
      "cell_type": "markdown",
      "source": [
        "##Identity Operators"
      ],
      "metadata": {
        "id": "XPSiW6jk9Oki"
      }
    },
    {
      "cell_type": "code",
      "source": [
        "c is d\n",
        "c is not d"
      ],
      "metadata": {
        "colab": {
          "base_uri": "https://localhost:8080/"
        },
        "id": "CNPiMDkK9SGj",
        "outputId": "f46fb5da-8a83-43f1-9a4c-ebc5b58f5195"
      },
      "execution_count": 86,
      "outputs": [
        {
          "output_type": "execute_result",
          "data": {
            "text/plain": [
              "True"
            ]
          },
          "metadata": {},
          "execution_count": 86
        }
      ]
    },
    {
      "cell_type": "markdown",
      "source": [
        "##Application 2 "
      ],
      "metadata": {
        "id": "SnL8edP99f9G"
      }
    },
    {
      "cell_type": "code",
      "source": [
        "e = 10\n",
        "f = 5\n",
        "\n",
        "# Implement the operations +, //, and bit shift right >> twice\n",
        "\n",
        "print(e+f)\n",
        "print(e//f)\n",
        "print(e>>2)\n",
        "print(f>>2)"
      ],
      "metadata": {
        "colab": {
          "base_uri": "https://localhost:8080/"
        },
        "id": "r3KP6bw49hsr",
        "outputId": "12c0447f-3ffa-4ca0-ddd2-d36e0cac0528"
      },
      "execution_count": 89,
      "outputs": [
        {
          "output_type": "stream",
          "name": "stdout",
          "text": [
            "15\n",
            "2\n",
            "2\n",
            "1\n"
          ]
        }
      ]
    }
  ]
}